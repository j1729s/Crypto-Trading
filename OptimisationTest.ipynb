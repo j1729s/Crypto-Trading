{
 "cells": [
  {
   "cell_type": "code",
   "execution_count": 1,
   "id": "94f84ffd-38ce-4464-867a-4fdc534af2c1",
   "metadata": {},
   "outputs": [],
   "source": [
    "import numpy as np\n",
    "import pandas as pd\n",
    "from BuildLinearData import linear_data\n",
    "from BacktestStrategy import backtest_strategy\n",
    "from BuildLinearModel import validate_model"
   ]
  },
  {
   "cell_type": "markdown",
   "id": "2d3ffb6d-743a-4d59-b10e-cade0deaaecb",
   "metadata": {},
   "source": [
    "## Reading the data"
   ]
  },
  {
   "cell_type": "code",
   "execution_count": 2,
   "id": "37b41765-f8da-42fb-a286-ef127fbdcd22",
   "metadata": {},
   "outputs": [],
   "source": [
    "df1 = pd.read_csv(\"OrderBook_10.csv\")\n",
    "df2 = pd.read_csv(\"KlineData_10.csv\")\n",
    "\n",
    "df3 = pd.read_csv(\"OrderBook_11.csv\")\n",
    "df4 = pd.read_csv(\"KlineData_11.csv\")\n",
    "\n",
    "df5 = pd.read_csv(\"OrderBook_13_1.csv\")\n",
    "df6 = pd.read_csv(\"KlineData_13_1.csv\")\n",
    "\n",
    "df7 = pd.read_csv(\"OrderBook_15_2.csv\")\n",
    "df8 = pd.read_csv(\"KlineData_15_2.csv\")\n",
    "\n",
    "df9 = pd.read_csv(\"OrderBook_16_1.csv\")\n",
    "df10 = pd.read_csv(\"KlineData_16_1.csv\")\n",
    "\n",
    "df11 = pd.read_csv(\"OrderBook_17_1.csv\")\n",
    "df12 = pd.read_csv(\"KlineData_17_1.csv\")\n",
    "\n",
    "df13 = pd.read_csv(\"OrderBook_17_2.csv\")\n",
    "df14 = pd.read_csv(\"KlineData_17_2.csv\")\n",
    "\n",
    "df15 = pd.read_csv(\"OrderBook_18.csv\")\n",
    "df16 = pd.read_csv(\"KlineData_18.csv\")\n",
    "\n",
    "df17 = pd.read_csv(\"OrderBook_19_1.csv\")\n",
    "df18 = pd.read_csv(\"KlineData_19_1.csv\")\n",
    "\n",
    "df19 = pd.read_csv(\"OrderBook_20_1.csv\")\n",
    "df20 = pd.read_csv(\"KlineData_20_1.csv\")\n",
    "\n",
    "df21 = pd.read_csv(\"OrderBook_21.csv\")\n",
    "df22 = pd.read_csv(\"KlineData_21.csv\")"
   ]
  },
  {
   "cell_type": "markdown",
   "id": "3b303010-9377-4f70-83a5-07044b657b8c",
   "metadata": {},
   "source": [
    "### Optimising lags and delays for best fit judged by accuracy:"
   ]
  },
  {
   "cell_type": "code",
   "execution_count": 5,
   "id": "9223d995-47d0-420d-b2da-71c790093ebb",
   "metadata": {},
   "outputs": [],
   "source": [
    "# Define the range of values for l and d\n",
    "l_values = [4, 5, 6, 7, 8, 9, 10]\n",
    "d_values = [8, 9, 10, 11, 12, 13, 14]\n",
    "\n",
    "# Create an empty dictionary to store the results\n",
    "results_dict = {}\n",
    "\n",
    "for l in l_values:\n",
    "    for d in d_values:\n",
    "        data1 = linear_data(df1, df2, l=l, d=d)\n",
    "        data2 = linear_data(df3, df4, l=l, d=d)\n",
    "        data3 = linear_data(df5, df6, l=l, d=d)\n",
    "        data4 = linear_data(df7, df8, l=l, d=d)\n",
    "        data5 = linear_data(df9, df10, l=l, d=d)\n",
    "        data6 = linear_data(df11, df12, l=l, d=d)\n",
    "        data7 = linear_data(df13, df14, l=l, d=d)\n",
    "        data8 = linear_data(df15, df16, l=l, d=d)\n",
    "        data9 = linear_data(df17, df18, l=l, d=d)\n",
    "        data10 = linear_data(df19, df20, l=l, d=d)\n",
    "        data11 = linear_data(df21, df22, l=l, d=d)\n",
    "\n",
    "        frames = [data1, data2, data3, data4, data5, data6, data7, data8, data9, data10, data11]\n",
    "\n",
    "        result = pd.concat(frames)\n",
    "        train, test = np.split(result, [int(0.8*len(result))])\n",
    "\n",
    "        results_dict[(l, d)] = validate_model(train, test, l=l, threshold=0.2, optimise=True)\n",
    "        "
   ]
  },
  {
   "cell_type": "markdown",
   "id": "0e6a3367-71c2-41dc-aca8-a7e74595a088",
   "metadata": {},
   "source": [
    "Most accurate model:"
   ]
  },
  {
   "cell_type": "code",
   "execution_count": 12,
   "id": "c21ba942-895d-427d-ba31-e335771ac886",
   "metadata": {},
   "outputs": [
    {
     "data": {
      "text/plain": [
       "(0.14812230672368024, (8, 8))"
      ]
     },
     "execution_count": 12,
     "metadata": {},
     "output_type": "execute_result"
    }
   ],
   "source": [
    "max(zip(results_dict.values(), results_dict.keys()))"
   ]
  },
  {
   "cell_type": "markdown",
   "id": "5e479b66-f5f4-49f9-bea4-a05884aee724",
   "metadata": {},
   "source": [
    "### Optimising for threshold while trading on actual MPC"
   ]
  },
  {
   "cell_type": "code",
   "execution_count": 6,
   "id": "444790a0-3a12-4cab-b298-50108371121b",
   "metadata": {},
   "outputs": [],
   "source": [
    "# Create an empty dictionary to store the results\n",
    "results_dict = {}\n",
    "\n",
    "data1 = linear_data(df1, df2, l=8, d=8)\n",
    "data2 = linear_data(df3, df4, l=8, d=8)\n",
    "data3 = linear_data(df5, df6, l=8, d=8)\n",
    "data4 = linear_data(df7, df8, l=8, d=8)\n",
    "data5 = linear_data(df9, df10, l=8, d=8)\n",
    "data6 = linear_data(df11, df12, l=8, d=8)\n",
    "data7 = linear_data(df13, df14, l=8, d=8)\n",
    "data8 = linear_data(df15, df16, l=8, d=8)\n",
    "data9 = linear_data(df17, df18, l=8, d=8)\n",
    "data10 = linear_data(df19, df20, l=8, d=8)\n",
    "data11 = linear_data(df21, df22, l=8, d=8)\n",
    "\n",
    "frames = [data1, data2, data3, data4, data5, data6, data7, data8, data9, data10, data11]\n",
    "\n",
    "result = pd.concat(frames)\n",
    "train, test = np.split(result, [int(0.8*len(result))])"
   ]
  },
  {
   "cell_type": "markdown",
   "id": "7e0a8dbe-6efe-4af9-afdc-2bfcab6648de",
   "metadata": {},
   "source": [
    "#### Threshold between 10 and 24"
   ]
  },
  {
   "cell_type": "code",
   "execution_count": 7,
   "id": "6dd1741d-373d-46ca-92e0-9f777b2fd2c9",
   "metadata": {},
   "outputs": [],
   "source": [
    "for threshold in range(10, 24):\n",
    "    cost, tc, vol = backtest_strategy(train, test, threshold=threshold, l=8, to_test='Real', optimise=True)\n",
    "    results_dict[threshold] = sum(cost)-tc"
   ]
  },
  {
   "cell_type": "code",
   "execution_count": 8,
   "id": "ab0a4c4f-5509-4141-9ba7-7cea22bd7efb",
   "metadata": {},
   "outputs": [
    {
     "data": {
      "text/plain": [
       "[-533644.3546600022,\n",
       " -511232.378360005,\n",
       " -491686.2082800023,\n",
       " -473809.7068000017,\n",
       " -455926.1088600026,\n",
       " -435747.6470500015,\n",
       " -421466.67047000176,\n",
       " -406883.4175100023,\n",
       " -392365.8908500029,\n",
       " -380689.7481300013,\n",
       " -369041.46323000046,\n",
       " -358257.61416999984,\n",
       " -347821.77595000074,\n",
       " -339499.2810700013]"
      ]
     },
     "execution_count": 8,
     "metadata": {},
     "output_type": "execute_result"
    }
   ],
   "source": [
    "list(results_dict.values())"
   ]
  },
  {
   "cell_type": "markdown",
   "id": "5225972d-b5af-44ad-9612-1c553140661d",
   "metadata": {},
   "source": [
    "#### Threshold between 25 and 71"
   ]
  },
  {
   "cell_type": "code",
   "execution_count": 9,
   "id": "54fddc95-d917-4a91-a8cd-cdaaaa35a1dd",
   "metadata": {},
   "outputs": [],
   "source": [
    "for threshold in range(25, 71):\n",
    "    cost, tc, vol = backtest_strategy(train, test, threshold=threshold, l=8, to_test='Real', optimise=True)\n",
    "    results_dict[threshold] = sum(cost)-tc"
   ]
  },
  {
   "cell_type": "code",
   "execution_count": 10,
   "id": "5cbcda96-788d-4240-982a-299dd64c5ddd",
   "metadata": {},
   "outputs": [
    {
     "data": {
      "text/plain": [
       "[-533644.3546600022,\n",
       " -511232.378360005,\n",
       " -491686.2082800023,\n",
       " -473809.7068000017,\n",
       " -455926.1088600026,\n",
       " -435747.6470500015,\n",
       " -421466.67047000176,\n",
       " -406883.4175100023,\n",
       " -392365.8908500029,\n",
       " -380689.7481300013,\n",
       " -369041.46323000046,\n",
       " -358257.61416999984,\n",
       " -347821.77595000074,\n",
       " -339499.2810700013,\n",
       " -322845.32555000053,\n",
       " -315015.3173500011,\n",
       " -304646.2894500003,\n",
       " -296560.11681000004,\n",
       " -289946.69049000076,\n",
       " -284213.9483899995,\n",
       " -278018.50846999965,\n",
       " -271445.4426899993,\n",
       " -265915.4544299993,\n",
       " -260133.76206999898,\n",
       " -254274.74898999944,\n",
       " -246752.20223999926,\n",
       " -241860.93185999908,\n",
       " -235976.71179999958,\n",
       " -231860.69287999964,\n",
       " -227662.18233999942,\n",
       " -222768.96199999936,\n",
       " -218296.2134599996,\n",
       " -212951.75311999975,\n",
       " -209672.33424000017,\n",
       " -205564.5549800003,\n",
       " -200959.51646000054,\n",
       " -196811.9320400009,\n",
       " -192933.1719200007,\n",
       " -188830.00456000076,\n",
       " -185439.3512000009,\n",
       " -181894.95624000087,\n",
       " -178536.96438000063,\n",
       " -174805.3467200001,\n",
       " -170281.5019600002,\n",
       " -166454.04010000027,\n",
       " -162405.8988000002,\n",
       " -157331.7614400005,\n",
       " -154261.56460000022,\n",
       " -151336.39444000024,\n",
       " -148475.95964000007,\n",
       " -145409.7800600002,\n",
       " -142934.37046000012,\n",
       " -140515.65325999976,\n",
       " -137729.24839999966,\n",
       " -135270.40741999997,\n",
       " -132640.05821999986,\n",
       " -130328.6433799999,\n",
       " -128829.97937999971,\n",
       " -126666.01539999986,\n",
       " -124602.8200599998]"
      ]
     },
     "execution_count": 10,
     "metadata": {},
     "output_type": "execute_result"
    }
   ],
   "source": [
    "list(results_dict.values())"
   ]
  },
  {
   "cell_type": "markdown",
   "id": "78482e53-546f-449e-9061-918e6aec535f",
   "metadata": {},
   "source": [
    "Notice something?"
   ]
  }
 ],
 "metadata": {
  "kernelspec": {
   "display_name": "Python 3 (ipykernel)",
   "language": "python",
   "name": "python3"
  },
  "language_info": {
   "codemirror_mode": {
    "name": "ipython",
    "version": 3
   },
   "file_extension": ".py",
   "mimetype": "text/x-python",
   "name": "python",
   "nbconvert_exporter": "python",
   "pygments_lexer": "ipython3",
   "version": "3.9.13"
  }
 },
 "nbformat": 4,
 "nbformat_minor": 5
}
