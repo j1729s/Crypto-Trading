{
 "cells": [
  {
   "cell_type": "code",
   "execution_count": 1,
   "id": "50796dfc-9068-453c-8b1c-8f8dfef2243a",
   "metadata": {},
   "outputs": [],
   "source": [
    "import numpy as np\n",
    "import pandas as pd"
   ]
  },
  {
   "cell_type": "code",
   "execution_count": 2,
   "id": "bc184604-8485-4f2d-9e40-d41bc6598ac9",
   "metadata": {},
   "outputs": [
    {
     "data": {
      "text/html": [
       "<div>\n",
       "<style scoped>\n",
       "    .dataframe tbody tr th:only-of-type {\n",
       "        vertical-align: middle;\n",
       "    }\n",
       "\n",
       "    .dataframe tbody tr th {\n",
       "        vertical-align: top;\n",
       "    }\n",
       "\n",
       "    .dataframe thead th {\n",
       "        text-align: right;\n",
       "    }\n",
       "</style>\n",
       "<table border=\"1\" class=\"dataframe\">\n",
       "  <thead>\n",
       "    <tr style=\"text-align: right;\">\n",
       "      <th></th>\n",
       "      <th>timestamp</th>\n",
       "      <th>bid_price</th>\n",
       "      <th>bid_qty</th>\n",
       "      <th>ask_price</th>\n",
       "      <th>ask_qty</th>\n",
       "      <th>last_price</th>\n",
       "      <th>acc_quantity</th>\n",
       "    </tr>\n",
       "  </thead>\n",
       "  <tbody>\n",
       "    <tr>\n",
       "      <th>0</th>\n",
       "      <td>2023-05-19T03:06:49.800290</td>\n",
       "      <td>26887.0</td>\n",
       "      <td>0.738</td>\n",
       "      <td>26887.1</td>\n",
       "      <td>17.331</td>\n",
       "      <td>26887.0</td>\n",
       "      <td>534520.491000</td>\n",
       "    </tr>\n",
       "    <tr>\n",
       "      <th>1</th>\n",
       "      <td>2023-05-19T03:06:49.904521</td>\n",
       "      <td>26887.0</td>\n",
       "      <td>0.338</td>\n",
       "      <td>26887.1</td>\n",
       "      <td>17.331</td>\n",
       "      <td>26887.0</td>\n",
       "      <td>534520.491000</td>\n",
       "    </tr>\n",
       "    <tr>\n",
       "      <th>2</th>\n",
       "      <td>2023-05-19T03:06:49.974490</td>\n",
       "      <td>26887.0</td>\n",
       "      <td>0.402</td>\n",
       "      <td>26887.1</td>\n",
       "      <td>71.782</td>\n",
       "      <td>26887.1</td>\n",
       "      <td>534520.597000</td>\n",
       "    </tr>\n",
       "    <tr>\n",
       "      <th>3</th>\n",
       "      <td>2023-05-19T03:06:49.990530</td>\n",
       "      <td>26887.0</td>\n",
       "      <td>1.654</td>\n",
       "      <td>26887.1</td>\n",
       "      <td>14.488</td>\n",
       "      <td>26887.1</td>\n",
       "      <td>534520.597000</td>\n",
       "    </tr>\n",
       "    <tr>\n",
       "      <th>4</th>\n",
       "      <td>2023-05-19T03:06:49.992568</td>\n",
       "      <td>26887.0</td>\n",
       "      <td>1.654</td>\n",
       "      <td>26887.1</td>\n",
       "      <td>14.496</td>\n",
       "      <td>26887.1</td>\n",
       "      <td>534520.597000</td>\n",
       "    </tr>\n",
       "    <tr>\n",
       "      <th>...</th>\n",
       "      <td>...</td>\n",
       "      <td>...</td>\n",
       "      <td>...</td>\n",
       "      <td>...</td>\n",
       "      <td>...</td>\n",
       "      <td>...</td>\n",
       "      <td>...</td>\n",
       "    </tr>\n",
       "    <tr>\n",
       "      <th>1236441</th>\n",
       "      <td>2023-05-19T23:36:36.802625</td>\n",
       "      <td>26902.1</td>\n",
       "      <td>3.229</td>\n",
       "      <td>26902.2</td>\n",
       "      <td>0.005</td>\n",
       "      <td>26902.1</td>\n",
       "      <td>859509.394006</td>\n",
       "    </tr>\n",
       "    <tr>\n",
       "      <th>1236442</th>\n",
       "      <td>2023-05-19T23:36:36.898324</td>\n",
       "      <td>26902.7</td>\n",
       "      <td>24.940</td>\n",
       "      <td>26902.8</td>\n",
       "      <td>0.001</td>\n",
       "      <td>26902.6</td>\n",
       "      <td>859511.568006</td>\n",
       "    </tr>\n",
       "    <tr>\n",
       "      <th>1236443</th>\n",
       "      <td>2023-05-19T23:36:37.018091</td>\n",
       "      <td>26903.2</td>\n",
       "      <td>29.983</td>\n",
       "      <td>26903.3</td>\n",
       "      <td>0.411</td>\n",
       "      <td>26903.2</td>\n",
       "      <td>859511.581006</td>\n",
       "    </tr>\n",
       "    <tr>\n",
       "      <th>1236444</th>\n",
       "      <td>2023-05-19T23:36:37.092681</td>\n",
       "      <td>26903.2</td>\n",
       "      <td>30.140</td>\n",
       "      <td>26903.3</td>\n",
       "      <td>0.412</td>\n",
       "      <td>26903.2</td>\n",
       "      <td>859511.581006</td>\n",
       "    </tr>\n",
       "    <tr>\n",
       "      <th>1236445</th>\n",
       "      <td>2023-05-19T23:36:37.106684</td>\n",
       "      <td>26903.2</td>\n",
       "      <td>30.351</td>\n",
       "      <td>26903.3</td>\n",
       "      <td>0.412</td>\n",
       "      <td>26903.2</td>\n",
       "      <td>859511.581006</td>\n",
       "    </tr>\n",
       "  </tbody>\n",
       "</table>\n",
       "<p>1236446 rows × 7 columns</p>\n",
       "</div>"
      ],
      "text/plain": [
       "                          timestamp  bid_price  bid_qty  ask_price  ask_qty  \\\n",
       "0        2023-05-19T03:06:49.800290    26887.0    0.738    26887.1   17.331   \n",
       "1        2023-05-19T03:06:49.904521    26887.0    0.338    26887.1   17.331   \n",
       "2        2023-05-19T03:06:49.974490    26887.0    0.402    26887.1   71.782   \n",
       "3        2023-05-19T03:06:49.990530    26887.0    1.654    26887.1   14.488   \n",
       "4        2023-05-19T03:06:49.992568    26887.0    1.654    26887.1   14.496   \n",
       "...                             ...        ...      ...        ...      ...   \n",
       "1236441  2023-05-19T23:36:36.802625    26902.1    3.229    26902.2    0.005   \n",
       "1236442  2023-05-19T23:36:36.898324    26902.7   24.940    26902.8    0.001   \n",
       "1236443  2023-05-19T23:36:37.018091    26903.2   29.983    26903.3    0.411   \n",
       "1236444  2023-05-19T23:36:37.092681    26903.2   30.140    26903.3    0.412   \n",
       "1236445  2023-05-19T23:36:37.106684    26903.2   30.351    26903.3    0.412   \n",
       "\n",
       "         last_price   acc_quantity  \n",
       "0           26887.0  534520.491000  \n",
       "1           26887.0  534520.491000  \n",
       "2           26887.1  534520.597000  \n",
       "3           26887.1  534520.597000  \n",
       "4           26887.1  534520.597000  \n",
       "...             ...            ...  \n",
       "1236441     26902.1  859509.394006  \n",
       "1236442     26902.6  859511.568006  \n",
       "1236443     26903.2  859511.581006  \n",
       "1236444     26903.2  859511.581006  \n",
       "1236445     26903.2  859511.581006  \n",
       "\n",
       "[1236446 rows x 7 columns]"
      ]
     },
     "execution_count": 2,
     "metadata": {},
     "output_type": "execute_result"
    }
   ],
   "source": [
    "df = pd.read_csv(\"btcusdt_data.csv\")\n",
    "df"
   ]
  },
  {
   "cell_type": "markdown",
   "id": "e495248f-1922-4dbd-900d-bc472e255b12",
   "metadata": {},
   "source": [
    "Not evenly spaced with one timestamp often divide into two. Are these sequential?"
   ]
  },
  {
   "cell_type": "code",
   "execution_count": 3,
   "id": "19e03d72-a57f-4d81-a25e-04d96f828f64",
   "metadata": {},
   "outputs": [
    {
     "data": {
      "text/html": [
       "<div>\n",
       "<style scoped>\n",
       "    .dataframe tbody tr th:only-of-type {\n",
       "        vertical-align: middle;\n",
       "    }\n",
       "\n",
       "    .dataframe tbody tr th {\n",
       "        vertical-align: top;\n",
       "    }\n",
       "\n",
       "    .dataframe thead th {\n",
       "        text-align: right;\n",
       "    }\n",
       "</style>\n",
       "<table border=\"1\" class=\"dataframe\">\n",
       "  <thead>\n",
       "    <tr style=\"text-align: right;\">\n",
       "      <th></th>\n",
       "      <th>timestamp</th>\n",
       "      <th>bid_price</th>\n",
       "      <th>bid_qty</th>\n",
       "      <th>ask_price</th>\n",
       "      <th>ask_qty</th>\n",
       "      <th>last_price</th>\n",
       "      <th>acc_quantity</th>\n",
       "    </tr>\n",
       "  </thead>\n",
       "  <tbody>\n",
       "  </tbody>\n",
       "</table>\n",
       "</div>"
      ],
      "text/plain": [
       "Empty DataFrame\n",
       "Columns: [timestamp, bid_price, bid_qty, ask_price, ask_qty, last_price, acc_quantity]\n",
       "Index: []"
      ]
     },
     "execution_count": 3,
     "metadata": {},
     "output_type": "execute_result"
    }
   ],
   "source": [
    "df1 = df.sort_values(by='timestamp').reset_index()\n",
    "df[df[\"timestamp\"] != df1[\"timestamp\"]]"
   ]
  },
  {
   "cell_type": "code",
   "execution_count": 4,
   "id": "20ad4f5e-d60f-483a-a8ba-053f0a6d45b3",
   "metadata": {},
   "outputs": [
    {
     "data": {
      "text/plain": [
       "False"
      ]
     },
     "execution_count": 4,
     "metadata": {},
     "output_type": "execute_result"
    }
   ],
   "source": [
    "any(df1[\"timestamp\"] != df[\"timestamp\"])"
   ]
  },
  {
   "cell_type": "markdown",
   "id": "cd93242b-9dc9-42a1-a232-9e47916c600c",
   "metadata": {},
   "source": [
    "Yes! Do they have negative spread?"
   ]
  },
  {
   "cell_type": "code",
   "execution_count": 5,
   "id": "8e4cfe3a-38a6-4a84-b40e-3194e5b0da25",
   "metadata": {},
   "outputs": [
    {
     "data": {
      "text/html": [
       "<div>\n",
       "<style scoped>\n",
       "    .dataframe tbody tr th:only-of-type {\n",
       "        vertical-align: middle;\n",
       "    }\n",
       "\n",
       "    .dataframe tbody tr th {\n",
       "        vertical-align: top;\n",
       "    }\n",
       "\n",
       "    .dataframe thead th {\n",
       "        text-align: right;\n",
       "    }\n",
       "</style>\n",
       "<table border=\"1\" class=\"dataframe\">\n",
       "  <thead>\n",
       "    <tr style=\"text-align: right;\">\n",
       "      <th></th>\n",
       "      <th>timestamp</th>\n",
       "      <th>bid_price</th>\n",
       "      <th>bid_qty</th>\n",
       "      <th>ask_price</th>\n",
       "      <th>ask_qty</th>\n",
       "      <th>last_price</th>\n",
       "      <th>acc_quantity</th>\n",
       "    </tr>\n",
       "  </thead>\n",
       "  <tbody>\n",
       "  </tbody>\n",
       "</table>\n",
       "</div>"
      ],
      "text/plain": [
       "Empty DataFrame\n",
       "Columns: [timestamp, bid_price, bid_qty, ask_price, ask_qty, last_price, acc_quantity]\n",
       "Index: []"
      ]
     },
     "execution_count": 5,
     "metadata": {},
     "output_type": "execute_result"
    }
   ],
   "source": [
    "df[df[\"ask_price\"]-df[\"bid_price\"] < 0]"
   ]
  },
  {
   "cell_type": "code",
   "execution_count": 6,
   "id": "748ddd52-7bad-4cbb-8be4-35c8ae7497d8",
   "metadata": {},
   "outputs": [
    {
     "data": {
      "text/plain": [
       "False"
      ]
     },
     "execution_count": 6,
     "metadata": {},
     "output_type": "execute_result"
    }
   ],
   "source": [
    "any(df[\"ask_price\"]-df[\"bid_price\"] < 0)"
   ]
  },
  {
   "cell_type": "markdown",
   "id": "9391afe6-a321-4b53-8574-598c2c03a636",
   "metadata": {},
   "source": [
    "No! Are there jumps? Interpreted as an instantaneous change of greater than 10 percent of average price."
   ]
  },
  {
   "cell_type": "code",
   "execution_count": 7,
   "id": "7861a1aa-8db5-4b4d-a697-33ca138d046d",
   "metadata": {},
   "outputs": [
    {
     "data": {
      "text/html": [
       "<div>\n",
       "<style scoped>\n",
       "    .dataframe tbody tr th:only-of-type {\n",
       "        vertical-align: middle;\n",
       "    }\n",
       "\n",
       "    .dataframe tbody tr th {\n",
       "        vertical-align: top;\n",
       "    }\n",
       "\n",
       "    .dataframe thead th {\n",
       "        text-align: right;\n",
       "    }\n",
       "</style>\n",
       "<table border=\"1\" class=\"dataframe\">\n",
       "  <thead>\n",
       "    <tr style=\"text-align: right;\">\n",
       "      <th></th>\n",
       "      <th>bid_price</th>\n",
       "    </tr>\n",
       "  </thead>\n",
       "  <tbody>\n",
       "  </tbody>\n",
       "</table>\n",
       "</div>"
      ],
      "text/plain": [
       "Empty DataFrame\n",
       "Columns: [bid_price]\n",
       "Index: []"
      ]
     },
     "execution_count": 7,
     "metadata": {},
     "output_type": "execute_result"
    }
   ],
   "source": [
    "avgP = df[\"last_price\"].mean()\n",
    "dummy = df[[\"bid_price\", \"ask_price\"]].diff()\n",
    "df[[\"bid_price\"]][abs(dummy[\"bid_price\"]) > 0.1*avgP]"
   ]
  },
  {
   "cell_type": "code",
   "execution_count": 8,
   "id": "d95d8150-14be-4c37-add0-2be9f6910d81",
   "metadata": {},
   "outputs": [
    {
     "data": {
      "text/plain": [
       "False"
      ]
     },
     "execution_count": 8,
     "metadata": {},
     "output_type": "execute_result"
    }
   ],
   "source": [
    "any(abs(dummy[\"bid_price\"]) > 0.1*avgP)"
   ]
  },
  {
   "cell_type": "code",
   "execution_count": 9,
   "id": "af3d726e-bbcf-44ff-98af-98d2b14cdbf2",
   "metadata": {},
   "outputs": [
    {
     "data": {
      "text/html": [
       "<div>\n",
       "<style scoped>\n",
       "    .dataframe tbody tr th:only-of-type {\n",
       "        vertical-align: middle;\n",
       "    }\n",
       "\n",
       "    .dataframe tbody tr th {\n",
       "        vertical-align: top;\n",
       "    }\n",
       "\n",
       "    .dataframe thead th {\n",
       "        text-align: right;\n",
       "    }\n",
       "</style>\n",
       "<table border=\"1\" class=\"dataframe\">\n",
       "  <thead>\n",
       "    <tr style=\"text-align: right;\">\n",
       "      <th></th>\n",
       "      <th>ask_price</th>\n",
       "    </tr>\n",
       "  </thead>\n",
       "  <tbody>\n",
       "  </tbody>\n",
       "</table>\n",
       "</div>"
      ],
      "text/plain": [
       "Empty DataFrame\n",
       "Columns: [ask_price]\n",
       "Index: []"
      ]
     },
     "execution_count": 9,
     "metadata": {},
     "output_type": "execute_result"
    }
   ],
   "source": [
    "df[[\"ask_price\"]][abs(dummy[\"ask_price\"]) > 0.1*avgP]"
   ]
  },
  {
   "cell_type": "code",
   "execution_count": 10,
   "id": "540c397b-66ce-41ee-b7d8-22632ff8358f",
   "metadata": {},
   "outputs": [
    {
     "data": {
      "text/plain": [
       "False"
      ]
     },
     "execution_count": 10,
     "metadata": {},
     "output_type": "execute_result"
    }
   ],
   "source": [
    "any(abs(dummy[\"ask_price\"]) > 0.1*avgP)"
   ]
  },
  {
   "cell_type": "markdown",
   "id": "be1d6cfe-3440-40bb-836c-2c90e29c688f",
   "metadata": {},
   "source": [
    "NO! 1 percent?"
   ]
  },
  {
   "cell_type": "code",
   "execution_count": 11,
   "id": "68bcfd47-cf18-4804-a049-99738a2d7864",
   "metadata": {},
   "outputs": [
    {
     "data": {
      "text/html": [
       "<div>\n",
       "<style scoped>\n",
       "    .dataframe tbody tr th:only-of-type {\n",
       "        vertical-align: middle;\n",
       "    }\n",
       "\n",
       "    .dataframe tbody tr th {\n",
       "        vertical-align: top;\n",
       "    }\n",
       "\n",
       "    .dataframe thead th {\n",
       "        text-align: right;\n",
       "    }\n",
       "</style>\n",
       "<table border=\"1\" class=\"dataframe\">\n",
       "  <thead>\n",
       "    <tr style=\"text-align: right;\">\n",
       "      <th></th>\n",
       "      <th>bid_price</th>\n",
       "    </tr>\n",
       "  </thead>\n",
       "  <tbody>\n",
       "  </tbody>\n",
       "</table>\n",
       "</div>"
      ],
      "text/plain": [
       "Empty DataFrame\n",
       "Columns: [bid_price]\n",
       "Index: []"
      ]
     },
     "execution_count": 11,
     "metadata": {},
     "output_type": "execute_result"
    }
   ],
   "source": [
    "df[[\"bid_price\"]][abs(dummy[\"bid_price\"]) > 0.01*avgP]"
   ]
  },
  {
   "cell_type": "code",
   "execution_count": 12,
   "id": "4580fe70-8ef9-491e-acfd-ca974662c712",
   "metadata": {},
   "outputs": [
    {
     "data": {
      "text/html": [
       "<div>\n",
       "<style scoped>\n",
       "    .dataframe tbody tr th:only-of-type {\n",
       "        vertical-align: middle;\n",
       "    }\n",
       "\n",
       "    .dataframe tbody tr th {\n",
       "        vertical-align: top;\n",
       "    }\n",
       "\n",
       "    .dataframe thead th {\n",
       "        text-align: right;\n",
       "    }\n",
       "</style>\n",
       "<table border=\"1\" class=\"dataframe\">\n",
       "  <thead>\n",
       "    <tr style=\"text-align: right;\">\n",
       "      <th></th>\n",
       "      <th>ask_price</th>\n",
       "    </tr>\n",
       "  </thead>\n",
       "  <tbody>\n",
       "  </tbody>\n",
       "</table>\n",
       "</div>"
      ],
      "text/plain": [
       "Empty DataFrame\n",
       "Columns: [ask_price]\n",
       "Index: []"
      ]
     },
     "execution_count": 12,
     "metadata": {},
     "output_type": "execute_result"
    }
   ],
   "source": [
    "df[[\"ask_price\"]][abs(dummy[\"ask_price\"]) > 0.01*avgP]"
   ]
  },
  {
   "cell_type": "markdown",
   "id": "c85655cd-52ab-4414-9a13-e59e99c341a2",
   "metadata": {},
   "source": [
    "NO! Looks just fine except for being irregular."
   ]
  }
 ],
 "metadata": {
  "kernelspec": {
   "display_name": "Python 3 (ipykernel)",
   "language": "python",
   "name": "python3"
  },
  "language_info": {
   "codemirror_mode": {
    "name": "ipython",
    "version": 3
   },
   "file_extension": ".py",
   "mimetype": "text/x-python",
   "name": "python",
   "nbconvert_exporter": "python",
   "pygments_lexer": "ipython3",
   "version": "3.9.13"
  }
 },
 "nbformat": 4,
 "nbformat_minor": 5
}
