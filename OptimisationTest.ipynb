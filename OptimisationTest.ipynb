{
 "cells": [
  {
   "cell_type": "code",
   "execution_count": 1,
   "id": "94f84ffd-38ce-4464-867a-4fdc534af2c1",
   "metadata": {},
   "outputs": [],
   "source": [
    "import numpy as np\n",
    "import pandas as pd\n",
    "from BuildLinearData import linear_data\n",
    "from BacktestStrategy import backtest_strategy\n",
    "from BuildLinearModel import validate_model"
   ]
  },
  {
   "cell_type": "markdown",
   "id": "2d3ffb6d-743a-4d59-b10e-cade0deaaecb",
   "metadata": {},
   "source": [
    "## Reading the data"
   ]
  },
  {
   "cell_type": "code",
   "execution_count": 2,
   "id": "37b41765-f8da-42fb-a286-ef127fbdcd22",
   "metadata": {},
   "outputs": [],
   "source": [
    "df1 = pd.read_csv(\"OrderBook_10.csv\")\n",
    "df2 = pd.read_csv(\"KlineData_10.csv\")\n",
    "\n",
    "df3 = pd.read_csv(\"OrderBook_11.csv\")\n",
    "df4 = pd.read_csv(\"KlineData_11.csv\")\n",
    "\n",
    "df5 = pd.read_csv(\"OrderBook_13_1.csv\")\n",
    "df6 = pd.read_csv(\"KlineData_13_1.csv\")\n",
    "\n",
    "df7 = pd.read_csv(\"OrderBook_15_2.csv\")\n",
    "df8 = pd.read_csv(\"KlineData_15_2.csv\")\n",
    "\n",
    "df9 = pd.read_csv(\"OrderBook_16_1.csv\")\n",
    "df10 = pd.read_csv(\"KlineData_16_1.csv\")\n",
    "\n",
    "df11 = pd.read_csv(\"OrderBook_17_1.csv\")\n",
    "df12 = pd.read_csv(\"KlineData_17_1.csv\")\n",
    "\n",
    "df13 = pd.read_csv(\"OrderBook_17_2.csv\")\n",
    "df14 = pd.read_csv(\"KlineData_17_2.csv\")\n",
    "\n",
    "df15 = pd.read_csv(\"OrderBook_18.csv\")\n",
    "df16 = pd.read_csv(\"KlineData_18.csv\")\n",
    "\n",
    "df17 = pd.read_csv(\"OrderBook_19_1.csv\")\n",
    "df18 = pd.read_csv(\"KlineData_19_1.csv\")\n",
    "\n",
    "df19 = pd.read_csv(\"OrderBook_20_1.csv\")\n",
    "df20 = pd.read_csv(\"KlineData_20_1.csv\")\n",
    "\n",
    "df21 = pd.read_csv(\"OrderBook_21.csv\")\n",
    "df22 = pd.read_csv(\"KlineData_21.csv\")"
   ]
  },
  {
   "cell_type": "markdown",
   "id": "3b303010-9377-4f70-83a5-07044b657b8c",
   "metadata": {},
   "source": [
    "### Optimising lags and delays for best fit judged by accuracy:"
   ]
  },
  {
   "cell_type": "code",
   "execution_count": 5,
   "id": "9223d995-47d0-420d-b2da-71c790093ebb",
   "metadata": {},
   "outputs": [],
   "source": [
    "# Define the range of values for l and d\n",
    "l_values = [4, 5, 6, 7, 8, 9, 10]\n",
    "d_values = [8, 9, 10, 11, 12, 13, 14]\n",
    "\n",
    "# Create an empty dictionary to store the results\n",
    "results_dict = {}\n",
    "\n",
    "for l in l_values:\n",
    "    for d in d_values:\n",
    "        data1 = linear_data(df1, df2, l=l, d=d)\n",
    "        data2 = linear_data(df3, df4, l=l, d=d)\n",
    "        data3 = linear_data(df5, df6, l=l, d=d)\n",
    "        data4 = linear_data(df7, df8, l=l, d=d)\n",
    "        data5 = linear_data(df9, df10, l=l, d=d)\n",
    "        data6 = linear_data(df11, df12, l=l, d=d)\n",
    "        data7 = linear_data(df13, df14, l=l, d=d)\n",
    "        data8 = linear_data(df15, df16, l=l, d=d)\n",
    "        data9 = linear_data(df17, df18, l=l, d=d)\n",
    "        data10 = linear_data(df19, df20, l=l, d=d)\n",
    "        data11 = linear_data(df21, df22, l=l, d=d)\n",
    "\n",
    "        frames = [data1, data2, data3, data4, data5, data6, data7, data8, data9, data10, data11]\n",
    "\n",
    "        result = pd.concat(frames)\n",
    "        train, test = np.split(result, [int(0.8*len(result))])\n",
    "\n",
    "        results_dict[(l, d)] = validate_model(train, test, l=l, threshold=0.2, optimise=True)\n",
    "        "
   ]
  },
  {
   "cell_type": "markdown",
   "id": "0e6a3367-71c2-41dc-aca8-a7e74595a088",
   "metadata": {},
   "source": [
    "Most accurate model:"
   ]
  },
  {
   "cell_type": "code",
   "execution_count": 12,
   "id": "c21ba942-895d-427d-ba31-e335771ac886",
   "metadata": {},
   "outputs": [
    {
     "data": {
      "text/plain": [
       "(0.14812230672368024, (8, 8))"
      ]
     },
     "execution_count": 12,
     "metadata": {},
     "output_type": "execute_result"
    }
   ],
   "source": [
    "max(zip(results_dict.values(), results_dict.keys()))"
   ]
  },
  {
   "cell_type": "markdown",
   "id": "5e479b66-f5f4-49f9-bea4-a05884aee724",
   "metadata": {},
   "source": [
    "### Optimising for threshold while trading on actual MPC"
   ]
  },
  {
   "cell_type": "code",
   "execution_count": 6,
   "id": "444790a0-3a12-4cab-b298-50108371121b",
   "metadata": {},
   "outputs": [],
   "source": [
    "# Create an empty dictionary to store the results\n",
    "results_dict = {}\n",
    "\n",
    "data1 = linear_data(df1, df2, l=8, d=8)\n",
    "data2 = linear_data(df3, df4, l=8, d=8)\n",
    "data3 = linear_data(df5, df6, l=8, d=8)\n",
    "data4 = linear_data(df7, df8, l=8, d=8)\n",
    "data5 = linear_data(df9, df10, l=8, d=8)\n",
    "data6 = linear_data(df11, df12, l=8, d=8)\n",
    "data7 = linear_data(df13, df14, l=8, d=8)\n",
    "data8 = linear_data(df15, df16, l=8, d=8)\n",
    "data9 = linear_data(df17, df18, l=8, d=8)\n",
    "data10 = linear_data(df19, df20, l=8, d=8)\n",
    "data11 = linear_data(df21, df22, l=8, d=8)\n",
    "\n",
    "frames = [data1, data2, data3, data4, data5, data6, data7, data8, data9, data10, data11]\n",
    "\n",
    "result = pd.concat(frames)\n",
    "train, test = np.split(result, [int(0.8*len(result))])"
   ]
  },
  {
   "cell_type": "markdown",
   "id": "7e0a8dbe-6efe-4af9-afdc-2bfcab6648de",
   "metadata": {},
   "source": [
    "#### Threshold between 10 and 24"
   ]
  },
  {
   "cell_type": "code",
   "execution_count": 7,
   "id": "6dd1741d-373d-46ca-92e0-9f777b2fd2c9",
   "metadata": {},
   "outputs": [],
   "source": [
    "for threshold in range(10, 24):\n",
    "    cost, tc, vol = backtest_strategy(train, test, threshold=threshold, l=8, to_test='Real', optimise=True)\n",
    "    results_dict[threshold] = sum(cost)-tc"
   ]
  },
  {
   "cell_type": "code",
   "execution_count": 8,
   "id": "ab0a4c4f-5509-4141-9ba7-7cea22bd7efb",
   "metadata": {},
   "outputs": [
    {
     "data": {
      "text/plain": [
       "[-533644.3546600022,\n",
       " -511232.378360005,\n",
       " -491686.2082800023,\n",
       " -473809.7068000017,\n",
       " -455926.1088600026,\n",
       " -435747.6470500015,\n",
       " -421466.67047000176,\n",
       " -406883.4175100023,\n",
       " -392365.8908500029,\n",
       " -380689.7481300013,\n",
       " -369041.46323000046,\n",
       " -358257.61416999984,\n",
       " -347821.77595000074,\n",
       " -339499.2810700013]"
      ]
     },
     "execution_count": 8,
     "metadata": {},
     "output_type": "execute_result"
    }
   ],
   "source": [
    "list(results_dict.values())"
   ]
  },
  {
   "cell_type": "markdown",
   "id": "5225972d-b5af-44ad-9612-1c553140661d",
   "metadata": {},
   "source": [
    "#### Threshold between 25 and 71"
   ]
  },
  {
   "cell_type": "code",
   "execution_count": 9,
   "id": "54fddc95-d917-4a91-a8cd-cdaaaa35a1dd",
   "metadata": {},
   "outputs": [],
   "source": [
    "for threshold in range(25, 71):\n",
    "    cost, tc, vol = backtest_strategy(train, test, threshold=threshold, l=8, to_test='Real', optimise=True)\n",
    "    results_dict[threshold] = sum(cost)-tc"
   ]
  },
  {
   "cell_type": "code",
   "execution_count": 10,
   "id": "5cbcda96-788d-4240-982a-299dd64c5ddd",
   "metadata": {},
   "outputs": [
    {
     "data": {
      "text/plain": [
       "[-533644.3546600022,\n",
       " -511232.378360005,\n",
       " -491686.2082800023,\n",
       " -473809.7068000017,\n",
       " -455926.1088600026,\n",
       " -435747.6470500015,\n",
       " -421466.67047000176,\n",
       " -406883.4175100023,\n",
       " -392365.8908500029,\n",
       " -380689.7481300013,\n",
       " -369041.46323000046,\n",
       " -358257.61416999984,\n",
       " -347821.77595000074,\n",
       " -339499.2810700013,\n",
       " -322845.32555000053,\n",
       " -315015.3173500011,\n",
       " -304646.2894500003,\n",
       " -296560.11681000004,\n",
       " -289946.69049000076,\n",
       " -284213.9483899995,\n",
       " -278018.50846999965,\n",
       " -271445.4426899993,\n",
       " -265915.4544299993,\n",
       " -260133.76206999898,\n",
       " -254274.74898999944,\n",
       " -246752.20223999926,\n",
       " -241860.93185999908,\n",
       " -235976.71179999958,\n",
       " -231860.69287999964,\n",
       " -227662.18233999942,\n",
       " -222768.96199999936,\n",
       " -218296.2134599996,\n",
       " -212951.75311999975,\n",
       " -209672.33424000017,\n",
       " -205564.5549800003,\n",
       " -200959.51646000054,\n",
       " -196811.9320400009,\n",
       " -192933.1719200007,\n",
       " -188830.00456000076,\n",
       " -185439.3512000009,\n",
       " -181894.95624000087,\n",
       " -178536.96438000063,\n",
       " -174805.3467200001,\n",
       " -170281.5019600002,\n",
       " -166454.04010000027,\n",
       " -162405.8988000002,\n",
       " -157331.7614400005,\n",
       " -154261.56460000022,\n",
       " -151336.39444000024,\n",
       " -148475.95964000007,\n",
       " -145409.7800600002,\n",
       " -142934.37046000012,\n",
       " -140515.65325999976,\n",
       " -137729.24839999966,\n",
       " -135270.40741999997,\n",
       " -132640.05821999986,\n",
       " -130328.6433799999,\n",
       " -128829.97937999971,\n",
       " -126666.01539999986,\n",
       " -124602.8200599998]"
      ]
     },
     "execution_count": 10,
     "metadata": {},
     "output_type": "execute_result"
    }
   ],
   "source": [
    "list(results_dict.values())"
   ]
  },
  {
   "cell_type": "markdown",
   "id": "78482e53-546f-449e-9061-918e6aec535f",
   "metadata": {},
   "source": [
    "Notice something? That's probably because of making lesser trades."
   ]
  },
  {
   "cell_type": "markdown",
   "id": "b1fce421-fb0a-4891-9ce6-5689827ef5cb",
   "metadata": {},
   "source": [
    "Let's look at profits before costs"
   ]
  },
  {
   "cell_type": "code",
   "execution_count": 15,
   "id": "cf33971e-e417-401a-85af-f37a6625022e",
   "metadata": {},
   "outputs": [],
   "source": [
    "results_dict = {}\n",
    "for threshold in range(70, 78):\n",
    "    cost, tc, vol = backtest_strategy(train, test, threshold=threshold, l=8, to_test='Real', optimise=True)\n",
    "    results_dict[threshold] = sum(cost)"
   ]
  },
  {
   "cell_type": "code",
   "execution_count": 16,
   "id": "e1e91eda-9c3d-4577-804f-22d33b98fb36",
   "metadata": {},
   "outputs": [
    {
     "data": {
      "text/plain": [
       "[3522.200000000128,\n",
       " 3138.2000000001062,\n",
       " 3097.4000000001033,\n",
       " 2984.800000000134,\n",
       " 2849.6000000001295,\n",
       " 2934.2000000001426,\n",
       " 3067.0000000001237,\n",
       " 2918.0000000001382]"
      ]
     },
     "execution_count": 16,
     "metadata": {},
     "output_type": "execute_result"
    }
   ],
   "source": [
    "list(results_dict.values())"
   ]
  },
  {
   "cell_type": "code",
   "execution_count": 17,
   "id": "9453f918-f3eb-4843-89c6-87d2ea299fdb",
   "metadata": {},
   "outputs": [],
   "source": [
    "results_dict = {}\n",
    "for threshold in range(20, 40):\n",
    "    cost, tc, vol = backtest_strategy(train, test, threshold=threshold, l=8, to_test='Real', optimise=True)\n",
    "    results_dict[threshold] = sum(cost)"
   ]
  },
  {
   "cell_type": "code",
   "execution_count": 18,
   "id": "a49251c2-805f-47aa-a97e-348aedbf8961",
   "metadata": {},
   "outputs": [
    {
     "data": {
      "text/plain": [
       "[7581.700000000281,\n",
       " 7304.3000000003085,\n",
       " 7013.300000000374,\n",
       " 6737.300000000374,\n",
       " 6653.900000000416,\n",
       " 6493.300000000367,\n",
       " 6316.100000000413,\n",
       " 6213.900000000445,\n",
       " 6024.300000000461,\n",
       " 5669.100000000348,\n",
       " 5512.900000000351,\n",
       " 5461.300000000396,\n",
       " 5513.10000000037,\n",
       " 5229.300000000301,\n",
       " 5064.500000000255,\n",
       " 4904.900000000285,\n",
       " 5011.200000000361,\n",
       " 4960.200000000295,\n",
       " 4929.200000000259,\n",
       " 4574.800000000287]"
      ]
     },
     "execution_count": 18,
     "metadata": {},
     "output_type": "execute_result"
    }
   ],
   "source": [
    "list(results_dict.values())"
   ]
  },
  {
   "cell_type": "code",
   "execution_count": 19,
   "id": "f43add60-d5e1-48e8-8dc0-c43cd04aed78",
   "metadata": {},
   "outputs": [],
   "source": [
    "results_dict = {}\n",
    "for threshold in range(1, 20):\n",
    "    cost, tc, vol = backtest_strategy(train, test, threshold=threshold, l=8, to_test='Real', optimise=True)\n",
    "    results_dict[threshold] = sum(cost)"
   ]
  },
  {
   "cell_type": "code",
   "execution_count": 20,
   "id": "cec7c497-cf01-47f1-94ea-7d74d84dbd39",
   "metadata": {},
   "outputs": [
    {
     "data": {
      "text/plain": [
       "[31862.599999999315,\n",
       " 29257.199999999626,\n",
       " 25821.999999999774,\n",
       " 23314.19999999991,\n",
       " 20292.799999999923,\n",
       " 18579.200000000063,\n",
       " 16921.60000000016,\n",
       " 15599.60000000018,\n",
       " 14287.200000000019,\n",
       " 13037.00000000008,\n",
       " 12263.199999999975,\n",
       " 11592.000000000022,\n",
       " 10973.600000000064,\n",
       " 10080.600000000122,\n",
       " 9562.700000000033,\n",
       " 8810.500000000087,\n",
       " 8529.700000000244,\n",
       " 8381.900000000307,\n",
       " 8043.900000000191]"
      ]
     },
     "execution_count": 20,
     "metadata": {},
     "output_type": "execute_result"
    }
   ],
   "source": [
    "list(results_dict.values())"
   ]
  },
  {
   "cell_type": "code",
   "execution_count": 22,
   "id": "b526f99f-501a-4f56-b919-027a08706cda",
   "metadata": {},
   "outputs": [],
   "source": [
    "results_dict = {}\n",
    "for threshold in [x/100 for x in range(1,100)]:\n",
    "    cost, tc, vol = backtest_strategy(train, test, threshold=threshold, l=8, to_test='Real', optimise=True)\n",
    "    results_dict[threshold] = sum(cost)"
   ]
  },
  {
   "cell_type": "code",
   "execution_count": 23,
   "id": "2ce3ec5f-7c74-4f44-8f8a-3477836f3dda",
   "metadata": {},
   "outputs": [
    {
     "data": {
      "text/plain": [
       "[31609.09999999965,\n",
       " 31690.099999999577,\n",
       " 31689.699999999648,\n",
       " 31714.699999999735,\n",
       " 31734.499999999774,\n",
       " 31726.099999999766,\n",
       " 31764.499999999847,\n",
       " 31768.29999999985,\n",
       " 31752.099999999824,\n",
       " 31729.299999999814,\n",
       " 31745.89999999977,\n",
       " 31789.09999999973,\n",
       " 31771.099999999744,\n",
       " 31804.899999999732,\n",
       " 31814.899999999798,\n",
       " 31822.299999999865,\n",
       " 31797.299999999857,\n",
       " 31781.899999999878,\n",
       " 31809.09999999992,\n",
       " 31817.49999999989,\n",
       " 31802.099999999904,\n",
       " 31759.299999999865,\n",
       " 31748.299999999836,\n",
       " 31801.899999999827,\n",
       " 31843.89999999979,\n",
       " 31830.49999999979,\n",
       " 31805.299999999806,\n",
       " 31827.299999999792,\n",
       " 31823.499999999767,\n",
       " 31852.899999999783,\n",
       " 31895.6999999998,\n",
       " 31894.699999999757,\n",
       " 31957.89999999979,\n",
       " 31994.899999999798,\n",
       " 32010.699999999895,\n",
       " 32031.099999999846,\n",
       " 32089.499999999774,\n",
       " 32074.499999999774,\n",
       " 32102.699999999764,\n",
       " 32150.899999999812,\n",
       " 32151.299999999792,\n",
       " 32120.699999999786,\n",
       " 32107.099999999817,\n",
       " 32097.89999999976,\n",
       " 32065.299999999726,\n",
       " 32002.899999999674,\n",
       " 32007.699999999662,\n",
       " 32028.299999999632,\n",
       " 32041.09999999962,\n",
       " 31990.699999999524,\n",
       " 31991.89999999952,\n",
       " 31988.499999999534,\n",
       " 31966.49999999954,\n",
       " 31947.799999999515,\n",
       " 31974.399999999456,\n",
       " 31973.199999999393,\n",
       " 32020.999999999374,\n",
       " 32019.799999999377,\n",
       " 32045.399999999347,\n",
       " 32048.199999999342,\n",
       " 32046.79999999937,\n",
       " 32048.199999999444,\n",
       " 32040.199999999415,\n",
       " 32071.59999999944,\n",
       " 32019.79999999945,\n",
       " 32030.799999999406,\n",
       " 32036.799999999384,\n",
       " 31999.399999999405,\n",
       " 31979.399999999347,\n",
       " 31975.399999999303,\n",
       " 32024.99999999931,\n",
       " 32036.799999999268,\n",
       " 32037.999999999294,\n",
       " 32044.79999999926,\n",
       " 32045.9999999992,\n",
       " 32053.19999999921,\n",
       " 32075.599999999256,\n",
       " 32060.39999999928,\n",
       " 32009.799999999297,\n",
       " 31997.199999999262,\n",
       " 31998.59999999927,\n",
       " 31956.599999999293,\n",
       " 31954.39999999937,\n",
       " 31963.999999999352,\n",
       " 31957.399999999318,\n",
       " 31990.599999999315,\n",
       " 32004.39999999928,\n",
       " 31995.999999999287,\n",
       " 31986.999999999265,\n",
       " 31984.399999999252,\n",
       " 31969.599999999264,\n",
       " 31929.199999999277,\n",
       " 31916.19999999929,\n",
       " 31921.599999999286,\n",
       " 31933.99999999931,\n",
       " 31926.999999999323,\n",
       " 31893.599999999286,\n",
       " 31897.19999999927,\n",
       " 31894.19999999929]"
      ]
     },
     "execution_count": 23,
     "metadata": {},
     "output_type": "execute_result"
    }
   ],
   "source": [
    "list(results_dict.values())"
   ]
  },
  {
   "cell_type": "code",
   "execution_count": 24,
   "id": "3f77defd-716a-48fd-beb3-fdd832f89c6e",
   "metadata": {},
   "outputs": [
    {
     "data": {
      "text/plain": [
       "(32151.299999999792, 0.41)"
      ]
     },
     "execution_count": 24,
     "metadata": {},
     "output_type": "execute_result"
    }
   ],
   "source": [
    "max(zip(results_dict.values(), results_dict.keys()))"
   ]
  },
  {
   "cell_type": "code",
   "execution_count": null,
   "id": "d790ebab-c773-416d-9fb7-17def293b40a",
   "metadata": {},
   "outputs": [],
   "source": [
    "When trading on real MPC the optimal threshold is $0.41$ given data with $l=8$, and $d=8$."
   ]
  }
 ],
 "metadata": {
  "kernelspec": {
   "display_name": "Python 3 (ipykernel)",
   "language": "python",
   "name": "python3"
  },
  "language_info": {
   "codemirror_mode": {
    "name": "ipython",
    "version": 3
   },
   "file_extension": ".py",
   "mimetype": "text/x-python",
   "name": "python",
   "nbconvert_exporter": "python",
   "pygments_lexer": "ipython3",
   "version": "3.9.13"
  }
 },
 "nbformat": 4,
 "nbformat_minor": 5
}
