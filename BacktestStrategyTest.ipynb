{
 "cells": [
  {
   "cell_type": "code",
   "execution_count": 1,
   "id": "f3ae99ac-6456-40f0-b25a-2356298e4ac2",
   "metadata": {},
   "outputs": [],
   "source": [
    "import warnings\n",
    "import numpy as np\n",
    "import pandas as pd\n",
    "from BuildLinearData import linear_data\n",
    "from BacktestStrategy import backtest_strategy\n",
    "warnings.filterwarnings(\"ignore\")"
   ]
  },
  {
   "cell_type": "code",
   "execution_count": 2,
   "id": "70ef1c9d-6e01-4132-a92e-e9a8f2227422",
   "metadata": {},
   "outputs": [],
   "source": [
    "df1 = pd.read_csv(\"OrderBook_10.csv\")\n",
    "df2 = pd.read_csv(\"KlineData_10.csv\")\n",
    "data1 = linear_data(df1, df2)"
   ]
  },
  {
   "cell_type": "markdown",
   "id": "99760c1b-ba47-46f7-b34f-a6d5014aafda",
   "metadata": {},
   "source": [
    "We split the data 80 20 and train our model."
   ]
  },
  {
   "cell_type": "code",
   "execution_count": 3,
   "id": "5bbc24e9-83d1-46a3-b72b-e78e995ae5b1",
   "metadata": {},
   "outputs": [],
   "source": [
    "df = data1.copy()\n",
    "train, test = np.split(df, [int(0.8*len(df))])"
   ]
  },
  {
   "cell_type": "code",
   "execution_count": 4,
   "id": "4e193d48-57a4-4c92-b087-813f5a19c010",
   "metadata": {},
   "outputs": [
    {
     "name": "stdout",
     "output_type": "stream",
     "text": [
      "Total Profit = -64313.88966999986 USD\n",
      "Total Trade Volume = 3707 trades\n"
     ]
    }
   ],
   "source": [
    "test = backtest_strategy(train, test)"
   ]
  },
  {
   "cell_type": "markdown",
   "id": "5ca30431-adb0-49dc-94dd-1f4f631c3db5",
   "metadata": {},
   "source": [
    "Well that's awful let's see how the dataframe looks like."
   ]
  },
  {
   "cell_type": "code",
   "execution_count": 5,
   "id": "588a9757-9518-4fb7-a126-4f9ee848ce1a",
   "metadata": {},
   "outputs": [
    {
     "data": {
      "text/html": [
       "<div>\n",
       "<style scoped>\n",
       "    .dataframe tbody tr th:only-of-type {\n",
       "        vertical-align: middle;\n",
       "    }\n",
       "\n",
       "    .dataframe tbody tr th {\n",
       "        vertical-align: top;\n",
       "    }\n",
       "\n",
       "    .dataframe thead th {\n",
       "        text-align: right;\n",
       "    }\n",
       "</style>\n",
       "<table border=\"1\" class=\"dataframe\">\n",
       "  <thead>\n",
       "    <tr style=\"text-align: right;\">\n",
       "      <th></th>\n",
       "      <th>Price</th>\n",
       "      <th>MPC_pred</th>\n",
       "      <th>MPC</th>\n",
       "    </tr>\n",
       "    <tr>\n",
       "      <th>Time</th>\n",
       "      <th></th>\n",
       "      <th></th>\n",
       "      <th></th>\n",
       "    </tr>\n",
       "  </thead>\n",
       "  <tbody>\n",
       "    <tr>\n",
       "      <th>19458 days 10:00:45.687000</th>\n",
       "      <td>30036.9</td>\n",
       "      <td>0</td>\n",
       "      <td>-1</td>\n",
       "    </tr>\n",
       "    <tr>\n",
       "      <th>19458 days 10:00:45.937000</th>\n",
       "      <td>30036.9</td>\n",
       "      <td>0</td>\n",
       "      <td>-1</td>\n",
       "    </tr>\n",
       "    <tr>\n",
       "      <th>19458 days 10:00:46.187000</th>\n",
       "      <td>30036.9</td>\n",
       "      <td>-1</td>\n",
       "      <td>-1</td>\n",
       "    </tr>\n",
       "    <tr>\n",
       "      <th>19458 days 10:00:46.437000</th>\n",
       "      <td>30036.9</td>\n",
       "      <td>0</td>\n",
       "      <td>1</td>\n",
       "    </tr>\n",
       "    <tr>\n",
       "      <th>19458 days 10:00:46.687000</th>\n",
       "      <td>30036.9</td>\n",
       "      <td>0</td>\n",
       "      <td>-1</td>\n",
       "    </tr>\n",
       "    <tr>\n",
       "      <th>...</th>\n",
       "      <td>...</td>\n",
       "      <td>...</td>\n",
       "      <td>...</td>\n",
       "    </tr>\n",
       "    <tr>\n",
       "      <th>19458 days 15:20:15.687000</th>\n",
       "      <td>30178.5</td>\n",
       "      <td>0</td>\n",
       "      <td>-1</td>\n",
       "    </tr>\n",
       "    <tr>\n",
       "      <th>19458 days 15:20:15.937000</th>\n",
       "      <td>30178.6</td>\n",
       "      <td>-1</td>\n",
       "      <td>-1</td>\n",
       "    </tr>\n",
       "    <tr>\n",
       "      <th>19458 days 15:20:16.187000</th>\n",
       "      <td>30178.6</td>\n",
       "      <td>-1</td>\n",
       "      <td>-1</td>\n",
       "    </tr>\n",
       "    <tr>\n",
       "      <th>19458 days 15:20:16.437000</th>\n",
       "      <td>30178.6</td>\n",
       "      <td>0</td>\n",
       "      <td>-1</td>\n",
       "    </tr>\n",
       "    <tr>\n",
       "      <th>19458 days 15:20:16.687000</th>\n",
       "      <td>30178.5</td>\n",
       "      <td>1</td>\n",
       "      <td>-1</td>\n",
       "    </tr>\n",
       "  </tbody>\n",
       "</table>\n",
       "<p>64748 rows × 3 columns</p>\n",
       "</div>"
      ],
      "text/plain": [
       "                              Price  MPC_pred  MPC\n",
       "Time                                              \n",
       "19458 days 10:00:45.687000  30036.9         0   -1\n",
       "19458 days 10:00:45.937000  30036.9         0   -1\n",
       "19458 days 10:00:46.187000  30036.9        -1   -1\n",
       "19458 days 10:00:46.437000  30036.9         0    1\n",
       "19458 days 10:00:46.687000  30036.9         0   -1\n",
       "...                             ...       ...  ...\n",
       "19458 days 15:20:15.687000  30178.5         0   -1\n",
       "19458 days 15:20:15.937000  30178.6        -1   -1\n",
       "19458 days 15:20:16.187000  30178.6        -1   -1\n",
       "19458 days 15:20:16.437000  30178.6         0   -1\n",
       "19458 days 15:20:16.687000  30178.5         1   -1\n",
       "\n",
       "[64748 rows x 3 columns]"
      ]
     },
     "execution_count": 5,
     "metadata": {},
     "output_type": "execute_result"
    }
   ],
   "source": [
    "test"
   ]
  },
  {
   "cell_type": "markdown",
   "id": "4378144f-cb68-4cc1-9c6a-8945747a50b6",
   "metadata": {},
   "source": [
    "Hmm.... we see a lot of zeros in the predicted dataset but not so much in the real dataset. Let's try a bigger on to see if the profits improve."
   ]
  },
  {
   "cell_type": "code",
   "execution_count": 6,
   "id": "99f045ec-8f86-4fb2-8229-a1df781ba81f",
   "metadata": {},
   "outputs": [],
   "source": [
    "df1 = pd.read_csv(\"OrderBook_11.csv\")\n",
    "df2 = pd.read_csv(\"KlineData_11.csv\")\n",
    "data2 = linear_data(df1, df2)"
   ]
  },
  {
   "cell_type": "code",
   "execution_count": 7,
   "id": "6b519432-36ef-464c-ab37-ca714882c3ac",
   "metadata": {},
   "outputs": [],
   "source": [
    "df1 = pd.read_csv(\"OrderBook_13_1.csv\")\n",
    "df2 = pd.read_csv(\"KlineData_13_1.csv\")\n",
    "data3 = linear_data(df1, df2)"
   ]
  },
  {
   "cell_type": "code",
   "execution_count": 8,
   "id": "c3a64bd7-0422-4ae9-8a49-95fd834740ab",
   "metadata": {},
   "outputs": [],
   "source": [
    "df1 = pd.read_csv(\"OrderBook_15_2.csv\")\n",
    "df2 = pd.read_csv(\"KlineData_15_2.csv\")\n",
    "data4 = linear_data(df1, df2)"
   ]
  },
  {
   "cell_type": "code",
   "execution_count": 9,
   "id": "b374537f-6255-497d-b621-b6a23a2d2075",
   "metadata": {},
   "outputs": [],
   "source": [
    "df1 = pd.read_csv(\"OrderBook_16_1.csv\")\n",
    "df2 = pd.read_csv(\"KlineData_16_1.csv\")\n",
    "data5 = linear_data(df1, df2)"
   ]
  },
  {
   "cell_type": "code",
   "execution_count": 10,
   "id": "4f7e3298-f33c-4d61-8046-e35a38bb34af",
   "metadata": {},
   "outputs": [],
   "source": [
    "frames = [data1, data2, data3, data4, data5]\n",
    "\n",
    "result = pd.concat(frames)\n",
    "df = result.copy()\n",
    "train, test = np.split(df, [int(0.8*len(df))])"
   ]
  },
  {
   "cell_type": "code",
   "execution_count": 11,
   "id": "b34ce74e-812b-4c09-bec6-94818b2d977d",
   "metadata": {},
   "outputs": [
    {
     "name": "stdout",
     "output_type": "stream",
     "text": [
      "Total Profit = -69203.52185000021 USD\n",
      "Total Trade Volume = 7510 trades\n"
     ]
    }
   ],
   "source": [
    "test = backtest_strategy(train, test)"
   ]
  },
  {
   "cell_type": "markdown",
   "id": "9ddaa7df-dc64-4f24-95f8-de274d273a61",
   "metadata": {},
   "source": [
    "Well the profits did not improve. Although they did not decrease either. A loss making strategy will lose more with time however that was not the case."
   ]
  },
  {
   "cell_type": "code",
   "execution_count": 12,
   "id": "fda6b55e-388a-43b9-adbe-cef5ceb2f489",
   "metadata": {},
   "outputs": [
    {
     "data": {
      "text/html": [
       "<div>\n",
       "<style scoped>\n",
       "    .dataframe tbody tr th:only-of-type {\n",
       "        vertical-align: middle;\n",
       "    }\n",
       "\n",
       "    .dataframe tbody tr th {\n",
       "        vertical-align: top;\n",
       "    }\n",
       "\n",
       "    .dataframe thead th {\n",
       "        text-align: right;\n",
       "    }\n",
       "</style>\n",
       "<table border=\"1\" class=\"dataframe\">\n",
       "  <thead>\n",
       "    <tr style=\"text-align: right;\">\n",
       "      <th></th>\n",
       "      <th>Price</th>\n",
       "      <th>MPC_pred</th>\n",
       "      <th>MPC</th>\n",
       "    </tr>\n",
       "    <tr>\n",
       "      <th>Time</th>\n",
       "      <th></th>\n",
       "      <th></th>\n",
       "      <th></th>\n",
       "    </tr>\n",
       "  </thead>\n",
       "  <tbody>\n",
       "    <tr>\n",
       "      <th>19460 days 19:50:40.003000</th>\n",
       "      <td>30320.6</td>\n",
       "      <td>0</td>\n",
       "      <td>1</td>\n",
       "    </tr>\n",
       "    <tr>\n",
       "      <th>19460 days 19:50:40.253000</th>\n",
       "      <td>30320.6</td>\n",
       "      <td>0</td>\n",
       "      <td>1</td>\n",
       "    </tr>\n",
       "    <tr>\n",
       "      <th>19460 days 19:50:40.503000</th>\n",
       "      <td>30320.7</td>\n",
       "      <td>0</td>\n",
       "      <td>1</td>\n",
       "    </tr>\n",
       "    <tr>\n",
       "      <th>19460 days 19:50:40.753000</th>\n",
       "      <td>30320.7</td>\n",
       "      <td>0</td>\n",
       "      <td>1</td>\n",
       "    </tr>\n",
       "    <tr>\n",
       "      <th>19460 days 19:50:41.003000</th>\n",
       "      <td>30320.7</td>\n",
       "      <td>0</td>\n",
       "      <td>1</td>\n",
       "    </tr>\n",
       "    <tr>\n",
       "      <th>...</th>\n",
       "      <td>...</td>\n",
       "      <td>...</td>\n",
       "      <td>...</td>\n",
       "    </tr>\n",
       "    <tr>\n",
       "      <th>19464 days 00:22:22.916000</th>\n",
       "      <td>30229.3</td>\n",
       "      <td>0</td>\n",
       "      <td>1</td>\n",
       "    </tr>\n",
       "    <tr>\n",
       "      <th>19464 days 00:22:23.166000</th>\n",
       "      <td>30229.3</td>\n",
       "      <td>0</td>\n",
       "      <td>-1</td>\n",
       "    </tr>\n",
       "    <tr>\n",
       "      <th>19464 days 00:22:23.416000</th>\n",
       "      <td>30229.2</td>\n",
       "      <td>0</td>\n",
       "      <td>1</td>\n",
       "    </tr>\n",
       "    <tr>\n",
       "      <th>19464 days 00:22:23.666000</th>\n",
       "      <td>30229.2</td>\n",
       "      <td>1</td>\n",
       "      <td>1</td>\n",
       "    </tr>\n",
       "    <tr>\n",
       "      <th>19464 days 00:22:23.916000</th>\n",
       "      <td>30229.2</td>\n",
       "      <td>1</td>\n",
       "      <td>1</td>\n",
       "    </tr>\n",
       "  </tbody>\n",
       "</table>\n",
       "<p>156306 rows × 3 columns</p>\n",
       "</div>"
      ],
      "text/plain": [
       "                              Price  MPC_pred  MPC\n",
       "Time                                              \n",
       "19460 days 19:50:40.003000  30320.6         0    1\n",
       "19460 days 19:50:40.253000  30320.6         0    1\n",
       "19460 days 19:50:40.503000  30320.7         0    1\n",
       "19460 days 19:50:40.753000  30320.7         0    1\n",
       "19460 days 19:50:41.003000  30320.7         0    1\n",
       "...                             ...       ...  ...\n",
       "19464 days 00:22:22.916000  30229.3         0    1\n",
       "19464 days 00:22:23.166000  30229.3         0   -1\n",
       "19464 days 00:22:23.416000  30229.2         0    1\n",
       "19464 days 00:22:23.666000  30229.2         1    1\n",
       "19464 days 00:22:23.916000  30229.2         1    1\n",
       "\n",
       "[156306 rows x 3 columns]"
      ]
     },
     "execution_count": 12,
     "metadata": {},
     "output_type": "execute_result"
    }
   ],
   "source": [
    "test"
   ]
  },
  {
   "cell_type": "markdown",
   "id": "925ff091-2f2a-400a-95b7-b06734aef5d7",
   "metadata": {},
   "source": [
    "Again we see the zeros much more pronounced than the true values. Despite the loss I'm not ready to throw out this strategy as I think that simply training with better data will get us to a better model and therefore better profits."
   ]
  }
 ],
 "metadata": {
  "kernelspec": {
   "display_name": "Python 3 (ipykernel)",
   "language": "python",
   "name": "python3"
  },
  "language_info": {
   "codemirror_mode": {
    "name": "ipython",
    "version": 3
   },
   "file_extension": ".py",
   "mimetype": "text/x-python",
   "name": "python",
   "nbconvert_exporter": "python",
   "pygments_lexer": "ipython3",
   "version": "3.9.13"
  }
 },
 "nbformat": 4,
 "nbformat_minor": 5
}
